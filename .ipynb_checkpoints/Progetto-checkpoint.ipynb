{
 "cells": [
  {
   "cell_type": "code",
   "execution_count": 4,
   "id": "ac6916db-024c-449f-9aea-bf43d2c5013e",
   "metadata": {},
   "outputs": [],
   "source": [
    "import numpy as np\n",
    "import pandas as pd\n",
    "import os\n",
    "#Costrutti globali\n",
    "MONTHS = {\"1\":\"Gennaio\", \"2\":\"Febbraio\",\"3\":\"Marzo\",\"4\":\"Aprile\",\"5\":\"Maggio\",\"6\":\"Giugno\",\n",
    "          \"7\":\"Luglio\",\"8\":\"Agosto\",\"9\":\"Settembre\",\"10\":\"Ottobre\",\"11\":\"Novembre\",\"12\":\"Dicembre\"}\n",
    "SUBCSV_COLNUM = {0:1,1:3,2:2,3:2,4:2,5:3,6:2}\n",
    "#Importa tutti i file csv contenuti nella cartella e li divide in sotto-CSV, salvandoli\n",
    "directory_str = '../CSVs/'\n",
    "subdirectory_str = \"InternalData/subdf_\"\n",
    "directory = os.fsencode(directory_str)\n",
    "    \n",
    "for file in os.listdir(directory):\n",
    "    filename = os.fsdecode(file)\n",
    "    if filename.endswith(\".csv\"):\n",
    "        \n",
    "        #periodo di riferimento\n",
    "        month = filename.split('_')[2]\n",
    "        year = '20'+filename.split('_')[3].replace(\".csv\",\"\")\n",
    "        period = year+\"_\"+MONTHS[month]\n",
    "        \n",
    "        #ottengo il dataframe 'crudo'\n",
    "        fdir = directory_str+filename\n",
    "        raw_df = pd.read_csv(fdir, encoding='utf8', header=None)\n",
    "        \n",
    "        #trovo i separatori e ottengo i rispettivi sotto-csv \n",
    "        subcsv_indexes = []\n",
    "        rows = len(raw_df)\n",
    "        for index in range(rows):\n",
    "            if (raw_df.iloc[index,0])[0:3] == '---':\n",
    "                subcsv_indexes.append(index)\n",
    "        prev = 1\n",
    "        i = 0\n",
    "        #genera i subcsv delimitati da \"-- ... -\"\n",
    "        for i in range(len(subcsv_indexes)-1):\n",
    "            #elimina le sezioni 1 e 4, poco informative\n",
    "            lr = subcsv_indexes[i+1]\n",
    "            if i != 0 and i != 4:\n",
    "                sub_df = raw_df.iloc[prev:lr,:SUBCSV_COLNUM[i]]\n",
    "                sub_df.to_csv(subdirectory_str+period+\"_\"+str(i)+\".csv\", index=False, header=False)\n",
    "            prev = lr + 2\n",
    "        #Genera l'ultimo subcsv non delimitato e a dimensione variabile\n",
    "        i += 1\n",
    "        sub_df = raw_df.iloc[prev:,:SUBCSV_COLNUM[i]]\n",
    "        sub_df.to_csv(subdirectory_str+period+\"_\"+str(i)+\".csv\", index=False, header=False)\n",
    "    else:\n",
    "        continue\n"
   ]
  },
  {
   "cell_type": "markdown",
   "id": "c3acff15-9cdb-4faf-979e-ec609f0b6f4d",
   "metadata": {},
   "source": []
  },
  {
   "cell_type": "code",
   "execution_count": null,
   "id": "e1f4fdd1-124e-46ed-9ddb-81aab77cb6ab",
   "metadata": {},
   "outputs": [],
   "source": []
  }
 ],
 "metadata": {
  "kernelspec": {
   "display_name": "Python 3 (ipykernel)",
   "language": "python",
   "name": "python3"
  },
  "language_info": {
   "codemirror_mode": {
    "name": "ipython",
    "version": 3
   },
   "file_extension": ".py",
   "mimetype": "text/x-python",
   "name": "python",
   "nbconvert_exporter": "python",
   "pygments_lexer": "ipython3",
   "version": "3.12.9"
  }
 },
 "nbformat": 4,
 "nbformat_minor": 5
}
